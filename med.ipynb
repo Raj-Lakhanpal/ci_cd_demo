{
 "cells": [
  {
   "cell_type": "code",
   "execution_count": 6,
   "id": "3dd64b15",
   "metadata": {},
   "outputs": [
    {
     "name": "stdout",
     "output_type": "stream",
     "text": [
      "15\n",
      "5\n",
      "3.0\n"
     ]
    }
   ],
   "source": [
    "digits = [1,2,3,4,5]\n",
    "counter = 0\n",
    "sum = 0\n",
    "\n",
    "for i in digits:\n",
    "    counter +=1\n",
    "    sum+=i;\n",
    "print(sum)\n",
    "print(counter)\n",
    "avg = sum/counter\n",
    "print(avg)"
   ]
  },
  {
   "cell_type": "code",
   "execution_count": 8,
   "id": "97a7cac9",
   "metadata": {},
   "outputs": [
    {
     "name": "stdout",
     "output_type": "stream",
     "text": [
      "3.0\n"
     ]
    }
   ],
   "source": [
    "def med(digits):\n",
    "    counter = 0\n",
    "    sum = 0\n",
    "\n",
    "    for i in digits:\n",
    "        counter +=1\n",
    "        sum+=i;\n",
    "    avg = sum/counter\n",
    "    return avg\n",
    "\n",
    "print(med(digits=[1,2,3,4,5]))"
   ]
  },
  {
   "cell_type": "code",
   "execution_count": null,
   "id": "04c30e0b",
   "metadata": {},
   "outputs": [],
   "source": []
  }
 ],
 "metadata": {
  "kernelspec": {
   "display_name": "vtdd",
   "language": "python",
   "name": "python3"
  },
  "language_info": {
   "codemirror_mode": {
    "name": "ipython",
    "version": 3
   },
   "file_extension": ".py",
   "mimetype": "text/x-python",
   "name": "python",
   "nbconvert_exporter": "python",
   "pygments_lexer": "ipython3",
   "version": "3.11.11"
  }
 },
 "nbformat": 4,
 "nbformat_minor": 5
}
